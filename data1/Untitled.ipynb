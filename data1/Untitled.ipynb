{
 "cells": [
  {
   "cell_type": "code",
   "execution_count": 1,
   "metadata": {},
   "outputs": [],
   "source": [
    "import shapefile"
   ]
  },
  {
   "cell_type": "code",
   "execution_count": 3,
   "metadata": {},
   "outputs": [
    {
     "data": {
      "text/plain": [
       "[('DeletionFlag', 'C', 1, 0),\n",
       " ['OBJECTID', 'N', 9, 0],\n",
       " ['FAU_ID', 'C', 8, 0],\n",
       " ['FAU_LABL', 'C', 8, 0],\n",
       " ['FAU_NO', 'N', 9, 0],\n",
       " ['FAU_NAME', 'C', 80, 0],\n",
       " ['FAU_LENGTH', 'F', 19, 11],\n",
       " ['FAU_STRIKE', 'C', 8, 0],\n",
       " ['FAU_DIP', 'C', 8, 0],\n",
       " ['FAU_ANGLE', 'C', 8, 0],\n",
       " ['FAU_PROP', 'C', 30, 0],\n",
       " ['FAU_LAGE', 'C', 4, 0],\n",
       " ['FAU_AGEBAS', 'C', 200, 0],\n",
       " ['SEG_ID', 'C', 10, 0],\n",
       " ['SEG_NAME', 'C', 100, 0],\n",
       " ['SEG_ZHUANG', 'C', 20, 0],\n",
       " ['SEG_LENGTH', 'C', 5, 0],\n",
       " ['SEG_PROP', 'C', 20, 0],\n",
       " ['SEG_HV', 'C', 20, 0],\n",
       " ['SEG_VV', 'C', 20, 0],\n",
       " ['SEG_AGE', 'C', 20, 0],\n",
       " ['PEO_AGE', 'C', 50, 0],\n",
       " ['RUP_TIME', 'C', 10, 0],\n",
       " ['RUP_M', 'F', 19, 11],\n",
       " ['RUP_LENGTH', 'F', 19, 11],\n",
       " ['RUP_S', 'C', 30, 0],\n",
       " ['FAU_RBAS', 'C', 30, 0],\n",
       " ['FAU_SOURCE', 'C', 60, 0]]"
      ]
     },
     "execution_count": 3,
     "metadata": {},
     "output_type": "execute_result"
    }
   ],
   "source": [
    "shps = shapefile.Reader('active_faults.shp')\n",
    "shps.fields"
   ]
  },
  {
   "cell_type": "code",
   "execution_count": 14,
   "metadata": {},
   "outputs": [
    {
     "data": {
      "text/plain": [
       "'utf-8'"
      ]
     },
     "execution_count": 14,
     "metadata": {},
     "output_type": "execute_result"
    }
   ],
   "source": [
    "shps.encoding"
   ]
  },
  {
   "cell_type": "code",
   "execution_count": 17,
   "metadata": {},
   "outputs": [
    {
     "name": "stdout",
     "output_type": "stream",
     "text": [
      "[(87.90446, 48.0548), (87.95733, 48.01568), (88.02505, 47.96973), (88.10271, 47.9189), (88.18871, 47.85571), (88.23255, 47.8215), (88.2857, 47.79229), (88.32616, 47.76751), (88.36983, 47.74139), (88.43595, 47.69414), (88.49011, 47.65324), (88.52268, 47.62274), (88.57524, 47.59425), (88.63608, 47.56153), (88.70198, 47.51777), (88.77391, 47.47213), (88.82987, 47.43683), (88.88696, 47.40619), (88.96055, 47.36706), (89.02099, 47.33415), (89.06602, 47.31439), (89.11621, 47.2872), (89.15907, 47.25715), (89.22472, 47.22853), (89.30914, 47.19262), (89.37381, 47.16652), (89.41338, 47.14589), (89.46667, 47.12085), (89.5329, 47.10215), (89.59675, 47.08219), (89.66813, 47.06416)]\n"
     ]
    },
    {
     "data": {
      "image/png": "[encoded data removed]",
      "text/plain": [
       "<Figure size 432x288 with 1 Axes>"
      ]
     },
     "metadata": {
      "needs_background": "light"
     },
     "output_type": "display_data"
    }
   ],
   "source": [
    "from matplotlib import pyplot as plt\n",
    "border_shape = shps\n",
    "# 通过创建reader类的对象进行shapefile文件的读取\n",
    "# border_points\n",
    "border = border_shape.shapes()\n",
    "# .shapes()读取几何数据信息，存放着该文件中所有对象的 几何数据\n",
    "# border是一个列表\n",
    "border_points = border[0].points\n",
    "print(border_points)# 返回第1个对象的所有点坐标\n",
    "# border_points = [(x1,y1),(x2,y2),(x3,y3),…]\n",
    "\n",
    "x, y = zip(*border_points)\n",
    "# x=(x1,x2,x3,…)\n",
    "# y=(y1,y2,y3,…)\n",
    "\n",
    "fig, ax = plt.subplots()  # 生成一张图和一张子图\n",
    "# plt.plot(x,y,'k-') # x横坐标 y纵坐标 ‘k-’线性为黑色\n",
    "plt.plot(x, y, color='#6666ff', label='fungis')  # x横坐标 y纵坐标 ‘k-’线性为黑色\n",
    "ax.grid()  # 添加网格线\n",
    "ax.axis('equal')\n",
    "plt.savefig('pic.jpg')"
   ]
  },
  {
   "cell_type": "code",
   "execution_count": 6,
   "metadata": {},
   "outputs": [
    {
     "ename": "ImportError",
     "evalue": "cannot import name '_points_from_xy' from 'geopandas.array' (D:\\anaconda3\\lib\\site-packages\\geopandas\\array.py)",
     "output_type": "error",
     "traceback": [
      "\u001b[1;31m---------------------------------------------------------------------------\u001b[0m",
      "\u001b[1;31mImportError\u001b[0m                               Traceback (most recent call last)",
      "\u001b[1;32m<ipython-input-6-c3b0665fec6e>\u001b[0m in \u001b[0;36m<module>\u001b[1;34m\u001b[0m\n\u001b[1;32m----> 1\u001b[1;33m \u001b[1;32mimport\u001b[0m \u001b[0mgeopandas\u001b[0m\u001b[1;33m\u001b[0m\u001b[1;33m\u001b[0m\u001b[0m\n\u001b[0m\u001b[0;32m      2\u001b[0m \u001b[1;32mfrom\u001b[0m \u001b[0mmatplotlib\u001b[0m \u001b[1;32mimport\u001b[0m \u001b[0mpyplot\u001b[0m \u001b[1;32mas\u001b[0m \u001b[0mplt\u001b[0m\u001b[1;33m\u001b[0m\u001b[1;33m\u001b[0m\u001b[0m\n\u001b[0;32m      3\u001b[0m \u001b[0mshps\u001b[0m \u001b[1;33m=\u001b[0m \u001b[0mgeopandas\u001b[0m\u001b[1;33m.\u001b[0m\u001b[0mread_file\u001b[0m\u001b[1;33m(\u001b[0m\u001b[1;34mr'C:\\Users\\Administrator\\Desktop\\GMT论文\\gadm36_CHN_shp\\gadm36_CHN_0.shp'\u001b[0m\u001b[1;33m)\u001b[0m\u001b[1;33m\u001b[0m\u001b[1;33m\u001b[0m\u001b[0m\n\u001b[0;32m      4\u001b[0m \u001b[0mshps\u001b[0m\u001b[1;33m.\u001b[0m\u001b[0mplot\u001b[0m\u001b[1;33m(\u001b[0m\u001b[1;33m)\u001b[0m\u001b[1;33m\u001b[0m\u001b[1;33m\u001b[0m\u001b[0m\n\u001b[0;32m      5\u001b[0m \u001b[0mplt\u001b[0m\u001b[1;33m.\u001b[0m\u001b[0mshow\u001b[0m\u001b[1;33m(\u001b[0m\u001b[1;33m)\u001b[0m\u001b[1;33m\u001b[0m\u001b[1;33m\u001b[0m\u001b[0m\n",
      "\u001b[1;32mD:\\anaconda3\\lib\\site-packages\\geopandas\\__init__.py\u001b[0m in \u001b[0;36m<module>\u001b[1;34m\u001b[0m\n\u001b[0;32m      1\u001b[0m \u001b[1;32mfrom\u001b[0m \u001b[0mgeopandas\u001b[0m\u001b[1;33m.\u001b[0m\u001b[0mgeoseries\u001b[0m \u001b[1;32mimport\u001b[0m \u001b[0mGeoSeries\u001b[0m  \u001b[1;31m# noqa\u001b[0m\u001b[1;33m\u001b[0m\u001b[1;33m\u001b[0m\u001b[0m\n\u001b[0;32m      2\u001b[0m \u001b[1;32mfrom\u001b[0m \u001b[0mgeopandas\u001b[0m\u001b[1;33m.\u001b[0m\u001b[0mgeodataframe\u001b[0m \u001b[1;32mimport\u001b[0m \u001b[0mGeoDataFrame\u001b[0m  \u001b[1;31m# noqa\u001b[0m\u001b[1;33m\u001b[0m\u001b[1;33m\u001b[0m\u001b[0m\n\u001b[1;32m----> 3\u001b[1;33m \u001b[1;32mfrom\u001b[0m \u001b[0mgeopandas\u001b[0m\u001b[1;33m.\u001b[0m\u001b[0marray\u001b[0m \u001b[1;32mimport\u001b[0m \u001b[0m_points_from_xy\u001b[0m \u001b[1;32mas\u001b[0m \u001b[0mpoints_from_xy\u001b[0m  \u001b[1;31m# noqa\u001b[0m\u001b[1;33m\u001b[0m\u001b[1;33m\u001b[0m\u001b[0m\n\u001b[0m\u001b[0;32m      4\u001b[0m \u001b[1;33m\u001b[0m\u001b[0m\n\u001b[0;32m      5\u001b[0m \u001b[1;32mfrom\u001b[0m \u001b[0mgeopandas\u001b[0m\u001b[1;33m.\u001b[0m\u001b[0mio\u001b[0m\u001b[1;33m.\u001b[0m\u001b[0mfile\u001b[0m \u001b[1;32mimport\u001b[0m \u001b[0mread_file\u001b[0m  \u001b[1;31m# noqa\u001b[0m\u001b[1;33m\u001b[0m\u001b[1;33m\u001b[0m\u001b[0m\n",
      "\u001b[1;31mImportError\u001b[0m: cannot import name '_points_from_xy' from 'geopandas.array' (D:\\anaconda3\\lib\\site-packages\\geopandas\\array.py)"
     ]
    }
   ],
   "source": [
    "import geopandas\n",
    "import \n",
    "from matplotlib import pyplot as plt\n",
    "shps = geopandas.read_file(r'C:\\Users\\Administrator\\Desktop\\GMT论文\\gadm36_CHN_shp\\gadm36_CHN_0.shp')\n",
    "shps.plot()\n",
    "plt.show()"
   ]
  },
  {
   "cell_type": "code",
   "execution_count": null,
   "metadata": {},
   "outputs": [],
   "source": []
  }
 ],
 "metadata": {
  "kernelspec": {
   "display_name": "Python 3",
   "language": "python",
   "name": "python3"
  },
  "language_info": {
   "codemirror_mode": {
    "name": "ipython",
    "version": 3
   },
   "file_extension": ".py",
   "mimetype": "text/x-python",
   "name": "python",
   "nbconvert_exporter": "python",
   "pygments_lexer": "ipython3",
   "version": "3.7.4"
  }
 },
 "nbformat": 4,
 "nbformat_minor": 2
}
